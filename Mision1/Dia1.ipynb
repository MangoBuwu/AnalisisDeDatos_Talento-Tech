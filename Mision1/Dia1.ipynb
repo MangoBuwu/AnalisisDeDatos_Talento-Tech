{
 "cells": [
  {
   "cell_type": "markdown",
   "id": "19e7976c",
   "metadata": {},
   "source": [
    "# **Ejemplo del dia 1 en python**"
   ]
  },
  {
   "cell_type": "markdown",
   "id": "1d29bdf0",
   "metadata": {},
   "source": [
    "## Operaciones"
   ]
  },
  {
   "cell_type": "code",
   "execution_count": 1,
   "id": "c6e381f2",
   "metadata": {},
   "outputs": [
    {
     "data": {
      "text/plain": [
       "2"
      ]
     },
     "execution_count": 1,
     "metadata": {},
     "output_type": "execute_result"
    }
   ],
   "source": [
    "var1 = 1\n",
    "var2 = 2\n",
    "mult = var1 * var2\n",
    "mult"
   ]
  }
 ],
 "metadata": {
  "kernelspec": {
   "display_name": "Python 3",
   "language": "python",
   "name": "python3"
  },
  "language_info": {
   "codemirror_mode": {
    "name": "ipython",
    "version": 3
   },
   "file_extension": ".py",
   "mimetype": "text/x-python",
   "name": "python",
   "nbconvert_exporter": "python",
   "pygments_lexer": "ipython3",
   "version": "3.13.3"
  }
 },
 "nbformat": 4,
 "nbformat_minor": 5
}
