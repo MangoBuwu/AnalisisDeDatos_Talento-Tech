{
 "cells": [
  {
   "cell_type": "markdown",
   "id": "19e7976c",
   "metadata": {},
   "source": [
    "# Ejemplo del dia 1 en python"
   ]
  },
  {
   "cell_type": "code",
   "execution_count": null,
   "id": "c6e381f2",
   "metadata": {},
   "outputs": [],
   "source": []
  }
 ],
 "metadata": {
  "language_info": {
   "name": "python"
  }
 },
 "nbformat": 4,
 "nbformat_minor": 5
}
